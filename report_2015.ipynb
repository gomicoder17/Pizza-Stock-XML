{
 "cells": [
  {
   "cell_type": "markdown",
   "metadata": {},
   "source": [
    "## Import Libraries"
   ]
  },
  {
   "cell_type": "code",
   "execution_count": 1,
   "metadata": {},
   "outputs": [],
   "source": [
    "import os\n",
    "import json\n",
    "import pandas as pd\n",
    "import xgboost as xgb\n",
    "import dict2xml\n",
    "\n",
    "already_multiplied = False"
   ]
  },
  {
   "cell_type": "markdown",
   "metadata": {},
   "source": [
    "### Extract Data"
   ]
  },
  {
   "cell_type": "code",
   "execution_count": 2,
   "metadata": {},
   "outputs": [],
   "source": [
    "orders = pd.read_csv(\"data/orders_2015.csv\", encoding=\"latin-1\")\n",
    "order_details = pd.read_csv(\"data/order_details_2015.csv\", encoding=\"latin-1\")\n",
    "pizza_ingredients = pd.read_csv(\"data/pizza_types.csv\", encoding=\"latin-1\")"
   ]
  },
  {
   "cell_type": "code",
   "execution_count": 3,
   "metadata": {},
   "outputs": [
    {
     "data": {
      "text/html": [
       "<div>\n",
       "<style scoped>\n",
       "    .dataframe tbody tr th:only-of-type {\n",
       "        vertical-align: middle;\n",
       "    }\n",
       "\n",
       "    .dataframe tbody tr th {\n",
       "        vertical-align: top;\n",
       "    }\n",
       "\n",
       "    .dataframe thead th {\n",
       "        text-align: right;\n",
       "    }\n",
       "</style>\n",
       "<table border=\"1\" class=\"dataframe\">\n",
       "  <thead>\n",
       "    <tr style=\"text-align: right;\">\n",
       "      <th></th>\n",
       "      <th>Alfredo Sauce</th>\n",
       "      <th>Anchovies</th>\n",
       "      <th>Artichoke</th>\n",
       "      <th>Arugula</th>\n",
       "      <th>Asiago Cheese</th>\n",
       "      <th>Bacon</th>\n",
       "      <th>Barbecue Sauce</th>\n",
       "      <th>Barbecued Chicken</th>\n",
       "      <th>Beef Chuck Roast</th>\n",
       "      <th>Blue Cheese</th>\n",
       "      <th>...</th>\n",
       "      <th>Romano Cheese</th>\n",
       "      <th>Sliced Ham</th>\n",
       "      <th>Smoked Gouda Cheese</th>\n",
       "      <th>Soppressata Salami</th>\n",
       "      <th>Spinach</th>\n",
       "      <th>Sun-dried Tomatoes</th>\n",
       "      <th>Thai Sweet Chilli Sauce</th>\n",
       "      <th>Thyme</th>\n",
       "      <th>Tomatoes</th>\n",
       "      <th>Zucchini</th>\n",
       "    </tr>\n",
       "    <tr>\n",
       "      <th>date</th>\n",
       "      <th></th>\n",
       "      <th></th>\n",
       "      <th></th>\n",
       "      <th></th>\n",
       "      <th></th>\n",
       "      <th></th>\n",
       "      <th></th>\n",
       "      <th></th>\n",
       "      <th></th>\n",
       "      <th></th>\n",
       "      <th></th>\n",
       "      <th></th>\n",
       "      <th></th>\n",
       "      <th></th>\n",
       "      <th></th>\n",
       "      <th></th>\n",
       "      <th></th>\n",
       "      <th></th>\n",
       "      <th></th>\n",
       "      <th></th>\n",
       "      <th></th>\n",
       "    </tr>\n",
       "  </thead>\n",
       "  <tbody>\n",
       "    <tr>\n",
       "      <th>2015-01-01</th>\n",
       "      <td>3</td>\n",
       "      <td>4</td>\n",
       "      <td>43</td>\n",
       "      <td>9</td>\n",
       "      <td>18</td>\n",
       "      <td>24</td>\n",
       "      <td>27</td>\n",
       "      <td>27</td>\n",
       "      <td>8</td>\n",
       "      <td>21</td>\n",
       "      <td>...</td>\n",
       "      <td>21</td>\n",
       "      <td>7</td>\n",
       "      <td>21</td>\n",
       "      <td>3</td>\n",
       "      <td>60</td>\n",
       "      <td>11</td>\n",
       "      <td>22</td>\n",
       "      <td>0</td>\n",
       "      <td>227</td>\n",
       "      <td>7</td>\n",
       "    </tr>\n",
       "    <tr>\n",
       "      <th>2015-01-02</th>\n",
       "      <td>2</td>\n",
       "      <td>14</td>\n",
       "      <td>69</td>\n",
       "      <td>9</td>\n",
       "      <td>24</td>\n",
       "      <td>19</td>\n",
       "      <td>19</td>\n",
       "      <td>19</td>\n",
       "      <td>14</td>\n",
       "      <td>18</td>\n",
       "      <td>...</td>\n",
       "      <td>18</td>\n",
       "      <td>21</td>\n",
       "      <td>18</td>\n",
       "      <td>12</td>\n",
       "      <td>61</td>\n",
       "      <td>7</td>\n",
       "      <td>19</td>\n",
       "      <td>0</td>\n",
       "      <td>220</td>\n",
       "      <td>21</td>\n",
       "    </tr>\n",
       "    <tr>\n",
       "      <th>2015-01-03</th>\n",
       "      <td>13</td>\n",
       "      <td>11</td>\n",
       "      <td>67</td>\n",
       "      <td>12</td>\n",
       "      <td>30</td>\n",
       "      <td>18</td>\n",
       "      <td>16</td>\n",
       "      <td>16</td>\n",
       "      <td>21</td>\n",
       "      <td>12</td>\n",
       "      <td>...</td>\n",
       "      <td>12</td>\n",
       "      <td>18</td>\n",
       "      <td>12</td>\n",
       "      <td>3</td>\n",
       "      <td>78</td>\n",
       "      <td>19</td>\n",
       "      <td>23</td>\n",
       "      <td>1</td>\n",
       "      <td>195</td>\n",
       "      <td>23</td>\n",
       "    </tr>\n",
       "    <tr>\n",
       "      <th>2015-01-04</th>\n",
       "      <td>9</td>\n",
       "      <td>10</td>\n",
       "      <td>49</td>\n",
       "      <td>9</td>\n",
       "      <td>19</td>\n",
       "      <td>11</td>\n",
       "      <td>27</td>\n",
       "      <td>27</td>\n",
       "      <td>6</td>\n",
       "      <td>12</td>\n",
       "      <td>...</td>\n",
       "      <td>12</td>\n",
       "      <td>7</td>\n",
       "      <td>12</td>\n",
       "      <td>0</td>\n",
       "      <td>40</td>\n",
       "      <td>6</td>\n",
       "      <td>13</td>\n",
       "      <td>2</td>\n",
       "      <td>132</td>\n",
       "      <td>8</td>\n",
       "    </tr>\n",
       "    <tr>\n",
       "      <th>2015-01-05</th>\n",
       "      <td>19</td>\n",
       "      <td>10</td>\n",
       "      <td>46</td>\n",
       "      <td>8</td>\n",
       "      <td>34</td>\n",
       "      <td>19</td>\n",
       "      <td>5</td>\n",
       "      <td>5</td>\n",
       "      <td>4</td>\n",
       "      <td>18</td>\n",
       "      <td>...</td>\n",
       "      <td>18</td>\n",
       "      <td>9</td>\n",
       "      <td>18</td>\n",
       "      <td>3</td>\n",
       "      <td>54</td>\n",
       "      <td>14</td>\n",
       "      <td>14</td>\n",
       "      <td>2</td>\n",
       "      <td>128</td>\n",
       "      <td>8</td>\n",
       "    </tr>\n",
       "  </tbody>\n",
       "</table>\n",
       "<p>5 rows × 64 columns</p>\n",
       "</div>"
      ],
      "text/plain": [
       "            Alfredo Sauce  Anchovies  Artichoke  Arugula  Asiago Cheese  \\\n",
       "date                                                                      \n",
       "2015-01-01              3          4         43        9             18   \n",
       "2015-01-02              2         14         69        9             24   \n",
       "2015-01-03             13         11         67       12             30   \n",
       "2015-01-04              9         10         49        9             19   \n",
       "2015-01-05             19         10         46        8             34   \n",
       "\n",
       "            Bacon  Barbecue Sauce  Barbecued Chicken  Beef Chuck Roast  \\\n",
       "date                                                                     \n",
       "2015-01-01     24              27                 27                 8   \n",
       "2015-01-02     19              19                 19                14   \n",
       "2015-01-03     18              16                 16                21   \n",
       "2015-01-04     11              27                 27                 6   \n",
       "2015-01-05     19               5                  5                 4   \n",
       "\n",
       "            Blue Cheese  ...  Romano Cheese  Sliced Ham  Smoked Gouda Cheese  \\\n",
       "date                     ...                                                   \n",
       "2015-01-01           21  ...             21           7                   21   \n",
       "2015-01-02           18  ...             18          21                   18   \n",
       "2015-01-03           12  ...             12          18                   12   \n",
       "2015-01-04           12  ...             12           7                   12   \n",
       "2015-01-05           18  ...             18           9                   18   \n",
       "\n",
       "            Soppressata Salami  Spinach  Sun-dried Tomatoes  \\\n",
       "date                                                          \n",
       "2015-01-01                   3       60                  11   \n",
       "2015-01-02                  12       61                   7   \n",
       "2015-01-03                   3       78                  19   \n",
       "2015-01-04                   0       40                   6   \n",
       "2015-01-05                   3       54                  14   \n",
       "\n",
       "            Thai Sweet Chilli Sauce  Thyme  Tomatoes  Zucchini  \n",
       "date                                                            \n",
       "2015-01-01                       22      0       227         7  \n",
       "2015-01-02                       19      0       220        21  \n",
       "2015-01-03                       23      1       195        23  \n",
       "2015-01-04                       13      2       132         8  \n",
       "2015-01-05                       14      2       128         8  \n",
       "\n",
       "[5 rows x 64 columns]"
      ]
     },
     "execution_count": 3,
     "metadata": {},
     "output_type": "execute_result"
    }
   ],
   "source": [
    "ingredients_per_day = pd.read_csv('data/ingredients_per_day_2015.csv', index_col=0)\n",
    "ingredients_per_day.index = pd.to_datetime(ingredients_per_day.index)\n",
    "ingredients_per_day = ingredients_per_day.sort_index()\n",
    "ingredients_per_day.head()"
   ]
  },
  {
   "cell_type": "markdown",
   "metadata": {},
   "source": [
    "## Informe Calidad de Datos"
   ]
  },
  {
   "cell_type": "code",
   "execution_count": 4,
   "metadata": {},
   "outputs": [],
   "source": [
    "informe = {\"orders\":{}, \"order_details\":{}, \"pizza_types\":{}}"
   ]
  },
  {
   "cell_type": "markdown",
   "metadata": {},
   "source": [
    "#### orders.csv"
   ]
  },
  {
   "cell_type": "code",
   "execution_count": 5,
   "metadata": {},
   "outputs": [
    {
     "data": {
      "text/html": [
       "<div>\n",
       "<style scoped>\n",
       "    .dataframe tbody tr th:only-of-type {\n",
       "        vertical-align: middle;\n",
       "    }\n",
       "\n",
       "    .dataframe tbody tr th {\n",
       "        vertical-align: top;\n",
       "    }\n",
       "\n",
       "    .dataframe thead th {\n",
       "        text-align: right;\n",
       "    }\n",
       "</style>\n",
       "<table border=\"1\" class=\"dataframe\">\n",
       "  <thead>\n",
       "    <tr style=\"text-align: right;\">\n",
       "      <th></th>\n",
       "      <th>order_id</th>\n",
       "      <th>date</th>\n",
       "      <th>time</th>\n",
       "    </tr>\n",
       "  </thead>\n",
       "  <tbody>\n",
       "    <tr>\n",
       "      <th>0</th>\n",
       "      <td>1</td>\n",
       "      <td>01/01/2015</td>\n",
       "      <td>11:38:36</td>\n",
       "    </tr>\n",
       "    <tr>\n",
       "      <th>1</th>\n",
       "      <td>2</td>\n",
       "      <td>01/01/2015</td>\n",
       "      <td>11:57:40</td>\n",
       "    </tr>\n",
       "    <tr>\n",
       "      <th>2</th>\n",
       "      <td>3</td>\n",
       "      <td>01/01/2015</td>\n",
       "      <td>12:12:28</td>\n",
       "    </tr>\n",
       "    <tr>\n",
       "      <th>3</th>\n",
       "      <td>4</td>\n",
       "      <td>01/01/2015</td>\n",
       "      <td>12:16:31</td>\n",
       "    </tr>\n",
       "    <tr>\n",
       "      <th>4</th>\n",
       "      <td>5</td>\n",
       "      <td>01/01/2015</td>\n",
       "      <td>12:21:30</td>\n",
       "    </tr>\n",
       "  </tbody>\n",
       "</table>\n",
       "</div>"
      ],
      "text/plain": [
       "   order_id        date      time\n",
       "0         1  01/01/2015  11:38:36\n",
       "1         2  01/01/2015  11:57:40\n",
       "2         3  01/01/2015  12:12:28\n",
       "3         4  01/01/2015  12:16:31\n",
       "4         5  01/01/2015  12:21:30"
      ]
     },
     "execution_count": 5,
     "metadata": {},
     "output_type": "execute_result"
    }
   ],
   "source": [
    "informe[\"orders\"][\"desciption\"] = \"csv with every order made in 2015\"\n",
    "informe[\"orders\"][\"n_rows\"] = orders.shape[0]\n",
    "informe[\"orders\"][\"n_columns\"] = orders.shape[1]\n",
    "informe[\"orders\"][\"columns\"] = {}\n",
    "orders.head()"
   ]
  },
  {
   "cell_type": "markdown",
   "metadata": {},
   "source": [
    "order_id"
   ]
  },
  {
   "cell_type": "code",
   "execution_count": 6,
   "metadata": {},
   "outputs": [],
   "source": [
    "informe[\"orders\"][\"columns\"][\"order_id\"] = {}\n",
    "informe[\"orders\"][\"columns\"][\"order_id\"][\"description\"] = \"unique id for each order\"\n",
    "informe[\"orders\"][\"columns\"][\"order_id\"][\"n_nulls\"] = orders[\"order_id\"].isnull().sum()\n",
    "informe[\"orders\"][\"columns\"][\"order_id\"][\"n_unique\"] = orders[\"order_id\"].nunique()"
   ]
  },
  {
   "cell_type": "markdown",
   "metadata": {},
   "source": [
    "date"
   ]
  },
  {
   "cell_type": "code",
   "execution_count": 7,
   "metadata": {},
   "outputs": [],
   "source": [
    "informe[\"orders\"][\"columns\"][\"date\"] = {}\n",
    "informe[\"orders\"][\"columns\"][\"date\"][\"description\"] = \"date of the order\"\n",
    "informe[\"orders\"][\"columns\"][\"date\"][\"n_nulls\"] = orders[\"date\"].isnull().sum()\n",
    "informe[\"orders\"][\"columns\"][\"date\"][\"n_unique\"] = orders[\"date\"].nunique()"
   ]
  },
  {
   "cell_type": "markdown",
   "metadata": {},
   "source": [
    "time"
   ]
  },
  {
   "cell_type": "code",
   "execution_count": 8,
   "metadata": {},
   "outputs": [],
   "source": [
    "informe[\"orders\"][\"columns\"][\"time\"] = {}\n",
    "informe[\"orders\"][\"columns\"][\"time\"][\"description\"] = \"exact time of the order\"\n",
    "informe[\"orders\"][\"columns\"][\"time\"][\"n_nulls\"] = orders[\"time\"].isnull().sum()\n",
    "informe[\"orders\"][\"columns\"][\"time\"][\"n_unique\"] = orders[\"time\"].nunique()"
   ]
  },
  {
   "cell_type": "markdown",
   "metadata": {},
   "source": [
    "#### order_details.csv"
   ]
  },
  {
   "cell_type": "code",
   "execution_count": 9,
   "metadata": {},
   "outputs": [
    {
     "data": {
      "text/html": [
       "<div>\n",
       "<style scoped>\n",
       "    .dataframe tbody tr th:only-of-type {\n",
       "        vertical-align: middle;\n",
       "    }\n",
       "\n",
       "    .dataframe tbody tr th {\n",
       "        vertical-align: top;\n",
       "    }\n",
       "\n",
       "    .dataframe thead th {\n",
       "        text-align: right;\n",
       "    }\n",
       "</style>\n",
       "<table border=\"1\" class=\"dataframe\">\n",
       "  <thead>\n",
       "    <tr style=\"text-align: right;\">\n",
       "      <th></th>\n",
       "      <th>order_details_id</th>\n",
       "      <th>order_id</th>\n",
       "      <th>pizza_id</th>\n",
       "      <th>quantity</th>\n",
       "    </tr>\n",
       "  </thead>\n",
       "  <tbody>\n",
       "    <tr>\n",
       "      <th>0</th>\n",
       "      <td>1</td>\n",
       "      <td>1</td>\n",
       "      <td>hawaiian_m</td>\n",
       "      <td>1</td>\n",
       "    </tr>\n",
       "    <tr>\n",
       "      <th>1</th>\n",
       "      <td>2</td>\n",
       "      <td>2</td>\n",
       "      <td>classic_dlx_m</td>\n",
       "      <td>1</td>\n",
       "    </tr>\n",
       "    <tr>\n",
       "      <th>2</th>\n",
       "      <td>3</td>\n",
       "      <td>2</td>\n",
       "      <td>five_cheese_l</td>\n",
       "      <td>1</td>\n",
       "    </tr>\n",
       "    <tr>\n",
       "      <th>3</th>\n",
       "      <td>4</td>\n",
       "      <td>2</td>\n",
       "      <td>ital_supr_l</td>\n",
       "      <td>1</td>\n",
       "    </tr>\n",
       "    <tr>\n",
       "      <th>4</th>\n",
       "      <td>5</td>\n",
       "      <td>2</td>\n",
       "      <td>mexicana_m</td>\n",
       "      <td>1</td>\n",
       "    </tr>\n",
       "  </tbody>\n",
       "</table>\n",
       "</div>"
      ],
      "text/plain": [
       "   order_details_id  order_id       pizza_id  quantity\n",
       "0                 1         1     hawaiian_m         1\n",
       "1                 2         2  classic_dlx_m         1\n",
       "2                 3         2  five_cheese_l         1\n",
       "3                 4         2    ital_supr_l         1\n",
       "4                 5         2     mexicana_m         1"
      ]
     },
     "execution_count": 9,
     "metadata": {},
     "output_type": "execute_result"
    }
   ],
   "source": [
    "informe[\"order_details\"][\"desciption\"] = \"csv with information about each order made in 2015\"\n",
    "informe[\"order_details\"][\"n_rows\"] = order_details.shape[0]\n",
    "informe[\"order_details\"][\"n_columns\"] = order_details.shape[1]\n",
    "informe[\"order_details\"][\"columns\"] = {}\n",
    "order_details.head()"
   ]
  },
  {
   "cell_type": "markdown",
   "metadata": {},
   "source": [
    "order_details_id"
   ]
  },
  {
   "cell_type": "code",
   "execution_count": 10,
   "metadata": {},
   "outputs": [],
   "source": [
    "informe[\"order_details\"][\"columns\"][\"order_details_id\"] = {}\n",
    "informe[\"order_details\"][\"columns\"][\"order_details_id\"][\"description\"] = \"unique id for each pizza in each order\"\n",
    "informe[\"order_details\"][\"columns\"][\"order_details_id\"][\"n_nulls\"] = order_details[\"order_details_id\"].isnull().sum()\n",
    "informe[\"order_details\"][\"columns\"][\"order_details_id\"][\"n_unique\"] = order_details[\"order_details_id\"].nunique()"
   ]
  },
  {
   "cell_type": "markdown",
   "metadata": {},
   "source": [
    "order_id"
   ]
  },
  {
   "cell_type": "code",
   "execution_count": 11,
   "metadata": {},
   "outputs": [],
   "source": [
    "informe[\"order_details\"][\"columns\"][\"order_id\"] = {}\n",
    "informe[\"order_details\"][\"columns\"][\"order_id\"][\"description\"] = \"unique id for each order\"\n",
    "informe[\"order_details\"][\"columns\"][\"order_id\"][\"n_nulls\"] = order_details[\"order_id\"].isnull().sum()\n",
    "informe[\"order_details\"][\"columns\"][\"order_id\"][\"n_unique\"] = order_details[\"order_id\"].nunique()"
   ]
  },
  {
   "cell_type": "markdown",
   "metadata": {},
   "source": [
    "pizza_id"
   ]
  },
  {
   "cell_type": "code",
   "execution_count": 12,
   "metadata": {},
   "outputs": [],
   "source": [
    "informe[\"order_details\"][\"columns\"][\"pizza_id\"] = {}\n",
    "informe[\"order_details\"][\"columns\"][\"pizza_id\"][\"description\"] = \"unique id for each pizza and size\"\n",
    "informe[\"order_details\"][\"columns\"][\"pizza_id\"][\"n_nulls\"] = order_details[\"pizza_id\"].isnull().sum()\n",
    "informe[\"order_details\"][\"columns\"][\"pizza_id\"][\"n_unique\"] = order_details[\"pizza_id\"].nunique()"
   ]
  },
  {
   "cell_type": "markdown",
   "metadata": {},
   "source": [
    "quantity"
   ]
  },
  {
   "cell_type": "code",
   "execution_count": 13,
   "metadata": {},
   "outputs": [],
   "source": [
    "informe[\"order_details\"][\"columns\"][\"quantity\"] = {}\n",
    "informe[\"order_details\"][\"columns\"][\"quantity\"][\"description\"] = \"number of pizzas ordered\"\n",
    "informe[\"order_details\"][\"columns\"][\"quantity\"][\"n_nulls\"] = order_details[\"quantity\"].isnull().sum()\n",
    "informe[\"order_details\"][\"columns\"][\"quantity\"][\"n_unique\"] = order_details[\"quantity\"].nunique()"
   ]
  },
  {
   "cell_type": "markdown",
   "metadata": {},
   "source": [
    "#### pizza_types.csv"
   ]
  },
  {
   "cell_type": "code",
   "execution_count": 14,
   "metadata": {},
   "outputs": [
    {
     "data": {
      "text/html": [
       "<div>\n",
       "<style scoped>\n",
       "    .dataframe tbody tr th:only-of-type {\n",
       "        vertical-align: middle;\n",
       "    }\n",
       "\n",
       "    .dataframe tbody tr th {\n",
       "        vertical-align: top;\n",
       "    }\n",
       "\n",
       "    .dataframe thead th {\n",
       "        text-align: right;\n",
       "    }\n",
       "</style>\n",
       "<table border=\"1\" class=\"dataframe\">\n",
       "  <thead>\n",
       "    <tr style=\"text-align: right;\">\n",
       "      <th></th>\n",
       "      <th>pizza_type_id</th>\n",
       "      <th>name</th>\n",
       "      <th>category</th>\n",
       "      <th>ingredients</th>\n",
       "    </tr>\n",
       "  </thead>\n",
       "  <tbody>\n",
       "    <tr>\n",
       "      <th>0</th>\n",
       "      <td>bbq_ckn</td>\n",
       "      <td>The Barbecue Chicken Pizza</td>\n",
       "      <td>Chicken</td>\n",
       "      <td>Barbecued Chicken, Red Peppers, Green Peppers,...</td>\n",
       "    </tr>\n",
       "    <tr>\n",
       "      <th>1</th>\n",
       "      <td>cali_ckn</td>\n",
       "      <td>The California Chicken Pizza</td>\n",
       "      <td>Chicken</td>\n",
       "      <td>Chicken, Artichoke, Spinach, Garlic, Jalapeno ...</td>\n",
       "    </tr>\n",
       "    <tr>\n",
       "      <th>2</th>\n",
       "      <td>ckn_alfredo</td>\n",
       "      <td>The Chicken Alfredo Pizza</td>\n",
       "      <td>Chicken</td>\n",
       "      <td>Chicken, Red Onions, Red Peppers, Mushrooms, A...</td>\n",
       "    </tr>\n",
       "    <tr>\n",
       "      <th>3</th>\n",
       "      <td>ckn_pesto</td>\n",
       "      <td>The Chicken Pesto Pizza</td>\n",
       "      <td>Chicken</td>\n",
       "      <td>Chicken, Tomatoes, Red Peppers, Spinach, Garli...</td>\n",
       "    </tr>\n",
       "    <tr>\n",
       "      <th>4</th>\n",
       "      <td>southw_ckn</td>\n",
       "      <td>The Southwest Chicken Pizza</td>\n",
       "      <td>Chicken</td>\n",
       "      <td>Chicken, Tomatoes, Red Peppers, Red Onions, Ja...</td>\n",
       "    </tr>\n",
       "  </tbody>\n",
       "</table>\n",
       "</div>"
      ],
      "text/plain": [
       "  pizza_type_id                          name category  \\\n",
       "0       bbq_ckn    The Barbecue Chicken Pizza  Chicken   \n",
       "1      cali_ckn  The California Chicken Pizza  Chicken   \n",
       "2   ckn_alfredo     The Chicken Alfredo Pizza  Chicken   \n",
       "3     ckn_pesto       The Chicken Pesto Pizza  Chicken   \n",
       "4    southw_ckn   The Southwest Chicken Pizza  Chicken   \n",
       "\n",
       "                                         ingredients  \n",
       "0  Barbecued Chicken, Red Peppers, Green Peppers,...  \n",
       "1  Chicken, Artichoke, Spinach, Garlic, Jalapeno ...  \n",
       "2  Chicken, Red Onions, Red Peppers, Mushrooms, A...  \n",
       "3  Chicken, Tomatoes, Red Peppers, Spinach, Garli...  \n",
       "4  Chicken, Tomatoes, Red Peppers, Red Onions, Ja...  "
      ]
     },
     "execution_count": 14,
     "metadata": {},
     "output_type": "execute_result"
    }
   ],
   "source": [
    "informe[\"pizza_types\"][\"desciption\"] = \"csv with information about each pizza and its ingredients\"\n",
    "informe[\"pizza_types\"][\"n_rows\"] = pizza_ingredients.shape[0]\n",
    "informe[\"pizza_types\"][\"n_columns\"] = pizza_ingredients.shape[1]\n",
    "informe[\"pizza_types\"][\"columns\"] = {}\n",
    "pizza_ingredients.head()"
   ]
  },
  {
   "cell_type": "markdown",
   "metadata": {},
   "source": [
    "pizza_type_id"
   ]
  },
  {
   "cell_type": "code",
   "execution_count": 15,
   "metadata": {},
   "outputs": [],
   "source": [
    "informe[\"pizza_types\"][\"columns\"][\"pizza_type_id\"] = {}\n",
    "informe[\"pizza_types\"][\"columns\"][\"pizza_type_id\"][\"description\"] = \"unique id for each pizza without size\"\n",
    "informe[\"pizza_types\"][\"columns\"][\"pizza_type_id\"][\"n_nulls\"] = pizza_ingredients[\"pizza_type_id\"].isnull().sum()\n",
    "informe[\"pizza_types\"][\"columns\"][\"pizza_type_id\"][\"n_unique\"] = pizza_ingredients[\"pizza_type_id\"].nunique()"
   ]
  },
  {
   "cell_type": "markdown",
   "metadata": {},
   "source": [
    "name"
   ]
  },
  {
   "cell_type": "code",
   "execution_count": 16,
   "metadata": {},
   "outputs": [],
   "source": [
    "informe[\"pizza_types\"][\"columns\"][\"name\"] = {}\n",
    "informe[\"pizza_types\"][\"columns\"][\"name\"][\"description\"] = \"full name of the pizza\"\n",
    "informe[\"pizza_types\"][\"columns\"][\"name\"][\"n_nulls\"] = pizza_ingredients[\"name\"].isnull().sum()\n",
    "informe[\"pizza_types\"][\"columns\"][\"name\"][\"n_unique\"] = pizza_ingredients[\"name\"].nunique()"
   ]
  },
  {
   "cell_type": "markdown",
   "metadata": {},
   "source": [
    "category"
   ]
  },
  {
   "cell_type": "code",
   "execution_count": 17,
   "metadata": {},
   "outputs": [],
   "source": [
    "informe[\"pizza_types\"][\"columns\"][\"category\"] = {}\n",
    "informe[\"pizza_types\"][\"columns\"][\"category\"][\"description\"] = \"category of the pizza\"\n",
    "informe[\"pizza_types\"][\"columns\"][\"category\"][\"n_nulls\"] = pizza_ingredients[\"category\"].isnull().sum()\n",
    "informe[\"pizza_types\"][\"columns\"][\"category\"][\"n_unique\"] = pizza_ingredients[\"category\"].nunique()"
   ]
  },
  {
   "cell_type": "markdown",
   "metadata": {},
   "source": [
    "ingredients"
   ]
  },
  {
   "cell_type": "code",
   "execution_count": 18,
   "metadata": {},
   "outputs": [],
   "source": [
    "informe[\"pizza_types\"][\"columns\"][\"ingredients\"] = {}\n",
    "informe[\"pizza_types\"][\"columns\"][\"ingredients\"][\"description\"] = \"ingredients of the pizza\"\n",
    "informe[\"pizza_types\"][\"columns\"][\"ingredients\"][\"n_nulls\"] = pizza_ingredients[\"ingredients\"].isnull().sum()\n",
    "informe[\"pizza_types\"][\"columns\"][\"ingredients\"][\"n_unique\"] = pizza_ingredients[\"ingredients\"].nunique()"
   ]
  },
  {
   "cell_type": "markdown",
   "metadata": {},
   "source": [
    "## Predict"
   ]
  },
  {
   "cell_type": "markdown",
   "metadata": {},
   "source": [
    "### Load Model"
   ]
  },
  {
   "cell_type": "code",
   "execution_count": 19,
   "metadata": {},
   "outputs": [
    {
     "data": {
      "text/plain": [
       "Alfredo Sauce               2.694113\n",
       "Anchovies                   4.073997\n",
       "Artichoke                  12.581386\n",
       "Arugula                     3.004441\n",
       "Asiago Cheese               6.585123\n",
       "                             ...    \n",
       "Sun-dried Tomatoes          4.910173\n",
       "Thai Sweet Chilli Sauce     5.903495\n",
       "Thyme                       1.188943\n",
       "Tomatoes                   22.693153\n",
       "Zucchini                    5.018326\n",
       "Length: 64, dtype: float64"
      ]
     },
     "execution_count": 19,
     "metadata": {},
     "output_type": "execute_result"
    }
   ],
   "source": [
    "model = xgb.XGBRegressor()\n",
    "model.load_model('model/ingredients.model')\n",
    "model_info = json.load(open('model/info.json', 'r', encoding='utf-8'))\n",
    "model_info[\"maes\"] = pd.Series(model_info[\"maes\"])\n",
    "model_info[\"maes\"]"
   ]
  },
  {
   "cell_type": "code",
   "execution_count": 20,
   "metadata": {},
   "outputs": [],
   "source": [
    "def mean_ingredients_predict(day,dataframe,previous_days=3,previous_weeks=2,verbose=False):\n",
    "    '''\n",
    "    Returns the mean of the ingredients of the previous days and the same day of the previous weeks\n",
    "    '''\n",
    "    if verbose:\n",
    "        print('Calculating mean ingredients to train Day: ',day.date())\n",
    "    start_day = day-pd.Timedelta(days=previous_days)\n",
    "    last_day = day-pd.Timedelta(days=1)\n",
    "    pdays = pd.date_range(start_day,last_day)\n",
    "    '''Append previous weeks'''\n",
    "    for w in range(previous_weeks,0,-1):\n",
    "        date = day-pd.Timedelta(weeks=w)\n",
    "        pdays = pdays.insert(previous_weeks-w,date)\n",
    "    '''Fill missing data'''\n",
    "    for day in pdays:\n",
    "        if day not in dataframe.index:\n",
    "            if verbose:\n",
    "                print('Missing previous day:',day.date())\n",
    "            delta=day-dataframe.index[0]\n",
    "            if verbose:\n",
    "                print(\"Attempting to predict it\")\n",
    "            if delta.days < previous_weeks*7:\n",
    "                if verbose:\n",
    "                    print('Not enough data to predict!')\n",
    "                    print('Returning mean of previous and next days')\n",
    "                m=1\n",
    "                try:\n",
    "                    return (dataframe.loc[day-pd.Timedelta(days=m)]+dataframe.loc[day+pd.Timedelta(days=m)])/(2*m)\n",
    "                except:\n",
    "                    if verbose:\n",
    "                        print('To enought data to calculate mean')\n",
    "                        print(\"Returning mean of all data\")\n",
    "                    return dataframe.mean()\n",
    "            dataframe.loc[day] = predict(day,dataframe,verbose=verbose)\n",
    "    return dataframe.loc[pdays].mean()\n",
    "\n",
    "def predict(day,dataframe,verbose=False):\n",
    "    '''\n",
    "    Predict the ingredients for the given day\n",
    "    Inputs:\n",
    "        day: datetime object\n",
    "        verbose: bool\n",
    "        dataframe: dataframe with the ingredients\n",
    "    Outputs:\n",
    "        ingredients: dataframe with the ingredients\n",
    "    '''\n",
    "    p_days = model_info[\"previous_days\"]\n",
    "    p_weeks = model_info[\"previous_weeks\"]\n",
    "    mean = mean_ingredients_predict(day,verbose=verbose,dataframe=dataframe,previous_days=p_days,previous_weeks=p_weeks)\n",
    "    dayofweek = day.dayofweek\n",
    "    month = day.month\n",
    "    X = pd.DataFrame([mean],columns=mean.index)\n",
    "    X['dayofweek'] = dayofweek\n",
    "    X['month'] = month\n",
    "    pred = model.predict(X).tolist()[0]\n",
    "    return pd.Series(pred,index=mean.index)\n",
    "\n",
    "def predict_stock(monday,dataframe,margins=None,verbose=False):\n",
    "    '''\n",
    "    Predict the stock for the given week, summing up the ingredients for each day\n",
    "    Returns: DataFrame with the predicted stock for each ingredient\n",
    "    '''\n",
    "    dataframe = dataframe.copy()\n",
    "    if margins is None:\n",
    "        margins = 0\n",
    "    stock = predict(monday,verbose=verbose,dataframe=dataframe)+margins\n",
    "    for day in pd.date_range(monday+pd.Timedelta(days=1),monday+pd.Timedelta(days=6)):\n",
    "        stock += predict(day,verbose=verbose,dataframe=dataframe)+margins\n",
    "    return stock\n",
    "\n",
    "def real_stock(monday,dataframe=None):\n",
    "    '''\n",
    "    Returns the real stock for the given week\n",
    "    '''\n",
    "    stock = dataframe.loc[monday].copy()\n",
    "    for day in pd.date_range(monday+pd.Timedelta(days=1),monday+pd.Timedelta(days=6)):\n",
    "        stock += dataframe.loc[day]\n",
    "    return stock"
   ]
  },
  {
   "cell_type": "code",
   "execution_count": 21,
   "metadata": {},
   "outputs": [
    {
     "data": {
      "text/plain": [
       "Alfredo Sauce                59.951117\n",
       "Anchovies                    96.969573\n",
       "Artichoke                   426.717342\n",
       "Arugula                      90.776775\n",
       "Asiago Cheese               193.685369\n",
       "                              ...     \n",
       "Sun-dried Tomatoes          110.463101\n",
       "Thai Sweet Chilli Sauce     160.302032\n",
       "Thyme                        16.729564\n",
       "Tomatoes                   1354.472246\n",
       "Zucchini                    134.097570\n",
       "Length: 64, dtype: float64"
      ]
     },
     "execution_count": 21,
     "metadata": {},
     "output_type": "execute_result"
    }
   ],
   "source": [
    "available_data = ingredients_per_day.loc[:'2015-06-05']\n",
    "monday = pd.to_datetime('2015-06-08')\n",
    "stock = predict_stock(monday,available_data,margins=model_info[\"maes\"],verbose=False)\n",
    "stock"
   ]
  },
  {
   "cell_type": "code",
   "execution_count": 22,
   "metadata": {},
   "outputs": [],
   "source": [
    "prediction = {\"info\":{}}\n",
    "prediction[\"info\"][\"prediction_week\"] = monday.date().isoformat()\n",
    "prediction[\"info\"][\"last_data_available\"] = available_data.index[-1].date().isoformat()\n",
    "prediction[\"predicted_ingredients\"] = {}\n",
    "for ingredient in stock.index:\n",
    "    prediction[\"predicted_ingredients\"][ingredient] = int(stock[ingredient])"
   ]
  },
  {
   "cell_type": "code",
   "execution_count": 23,
   "metadata": {},
   "outputs": [],
   "source": [
    "report={\n",
    "    \"data_quality_report\":informe,\n",
    "    \"prediction\":prediction\n",
    "}"
   ]
  },
  {
   "cell_type": "markdown",
   "metadata": {},
   "source": [
    "### Save report in xml"
   ]
  },
  {
   "cell_type": "code",
   "execution_count": 24,
   "metadata": {},
   "outputs": [],
   "source": [
    "xml = dict2xml.dict2xml(report,wrap=\"prediction\",indent=\"    \")\n",
    "if not os.path.exists(\"output\"):\n",
    "    os.mkdir(\"output\")\n",
    "with open('output/report_2015.xml', 'w', encoding='utf-8') as f:\n",
    "    f.write(xml)"
   ]
  }
 ],
 "metadata": {
  "kernelspec": {
   "display_name": "Python 3.10.6 64-bit",
   "language": "python",
   "name": "python3"
  },
  "language_info": {
   "codemirror_mode": {
    "name": "ipython",
    "version": 3
   },
   "file_extension": ".py",
   "mimetype": "text/x-python",
   "name": "python",
   "nbconvert_exporter": "python",
   "pygments_lexer": "ipython3",
   "version": "3.10.6"
  },
  "orig_nbformat": 4,
  "vscode": {
   "interpreter": {
    "hash": "841fed4330da2c0f186905de144ecf4da6db16f0ca1e7f45a0769cc74be68adf"
   }
  }
 },
 "nbformat": 4,
 "nbformat_minor": 2
}
