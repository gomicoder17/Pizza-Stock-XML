{
 "cells": [
  {
   "cell_type": "markdown",
   "metadata": {},
   "source": [
    "## Import Libraries"
   ]
  },
  {
   "cell_type": "code",
   "execution_count": 1,
   "metadata": {},
   "outputs": [],
   "source": [
    "import os\n",
    "import json\n",
    "import pandas as pd\n",
    "import xgboost as xgb\n",
    "import dict2xml\n",
    "\n",
    "already_multiplied = False"
   ]
  },
  {
   "cell_type": "markdown",
   "metadata": {},
   "source": [
    "### Extract Data"
   ]
  },
  {
   "cell_type": "code",
   "execution_count": 2,
   "metadata": {},
   "outputs": [],
   "source": [
    "orders = pd.read_csv(\"data/orders_2016.csv\", encoding=\"latin-1\",sep=\";\")\n",
    "order_details = pd.read_csv(\"data/order_details_2016.csv\", encoding=\"latin-1\",sep=\";\")\n",
    "pizza_ingredients = pd.read_csv(\"data/pizza_types.csv\", encoding=\"latin-1\")"
   ]
  },
  {
   "cell_type": "code",
   "execution_count": 3,
   "metadata": {},
   "outputs": [
    {
     "data": {
      "text/html": [
       "<div>\n",
       "<style scoped>\n",
       "    .dataframe tbody tr th:only-of-type {\n",
       "        vertical-align: middle;\n",
       "    }\n",
       "\n",
       "    .dataframe tbody tr th {\n",
       "        vertical-align: top;\n",
       "    }\n",
       "\n",
       "    .dataframe thead th {\n",
       "        text-align: right;\n",
       "    }\n",
       "</style>\n",
       "<table border=\"1\" class=\"dataframe\">\n",
       "  <thead>\n",
       "    <tr style=\"text-align: right;\">\n",
       "      <th></th>\n",
       "      <th>Alfredo Sauce</th>\n",
       "      <th>Anchovies</th>\n",
       "      <th>Artichoke</th>\n",
       "      <th>Arugula</th>\n",
       "      <th>Asiago Cheese</th>\n",
       "      <th>Bacon</th>\n",
       "      <th>Barbecue Sauce</th>\n",
       "      <th>Barbecued Chicken</th>\n",
       "      <th>Beef Chuck Roast</th>\n",
       "      <th>Blue Cheese</th>\n",
       "      <th>...</th>\n",
       "      <th>Romano Cheese</th>\n",
       "      <th>Sliced Ham</th>\n",
       "      <th>Smoked Gouda Cheese</th>\n",
       "      <th>Soppressata Salami</th>\n",
       "      <th>Spinach</th>\n",
       "      <th>Sun-dried Tomatoes</th>\n",
       "      <th>Thai Sweet Chilli Sauce</th>\n",
       "      <th>Thyme</th>\n",
       "      <th>Tomatoes</th>\n",
       "      <th>Zucchini</th>\n",
       "    </tr>\n",
       "    <tr>\n",
       "      <th>date</th>\n",
       "      <th></th>\n",
       "      <th></th>\n",
       "      <th></th>\n",
       "      <th></th>\n",
       "      <th></th>\n",
       "      <th></th>\n",
       "      <th></th>\n",
       "      <th></th>\n",
       "      <th></th>\n",
       "      <th></th>\n",
       "      <th></th>\n",
       "      <th></th>\n",
       "      <th></th>\n",
       "      <th></th>\n",
       "      <th></th>\n",
       "      <th></th>\n",
       "      <th></th>\n",
       "      <th></th>\n",
       "      <th></th>\n",
       "      <th></th>\n",
       "      <th></th>\n",
       "    </tr>\n",
       "  </thead>\n",
       "  <tbody>\n",
       "    <tr>\n",
       "      <th>2016-01-01</th>\n",
       "      <td>3.0</td>\n",
       "      <td>4.0</td>\n",
       "      <td>24.0</td>\n",
       "      <td>2.0</td>\n",
       "      <td>12.0</td>\n",
       "      <td>22.0</td>\n",
       "      <td>18.0</td>\n",
       "      <td>18.0</td>\n",
       "      <td>6.0</td>\n",
       "      <td>15.0</td>\n",
       "      <td>...</td>\n",
       "      <td>15.0</td>\n",
       "      <td>6.0</td>\n",
       "      <td>15.0</td>\n",
       "      <td>3.0</td>\n",
       "      <td>33.0</td>\n",
       "      <td>10.0</td>\n",
       "      <td>13.0</td>\n",
       "      <td>0.0</td>\n",
       "      <td>139.0</td>\n",
       "      <td>7.0</td>\n",
       "    </tr>\n",
       "    <tr>\n",
       "      <th>2016-01-02</th>\n",
       "      <td>0.0</td>\n",
       "      <td>11.0</td>\n",
       "      <td>55.0</td>\n",
       "      <td>6.0</td>\n",
       "      <td>8.0</td>\n",
       "      <td>16.0</td>\n",
       "      <td>13.0</td>\n",
       "      <td>13.0</td>\n",
       "      <td>10.0</td>\n",
       "      <td>12.0</td>\n",
       "      <td>...</td>\n",
       "      <td>12.0</td>\n",
       "      <td>11.0</td>\n",
       "      <td>12.0</td>\n",
       "      <td>11.0</td>\n",
       "      <td>39.0</td>\n",
       "      <td>6.0</td>\n",
       "      <td>19.0</td>\n",
       "      <td>0.0</td>\n",
       "      <td>165.0</td>\n",
       "      <td>15.0</td>\n",
       "    </tr>\n",
       "    <tr>\n",
       "      <th>2016-01-03</th>\n",
       "      <td>3.0</td>\n",
       "      <td>3.0</td>\n",
       "      <td>48.0</td>\n",
       "      <td>11.0</td>\n",
       "      <td>12.0</td>\n",
       "      <td>12.0</td>\n",
       "      <td>16.0</td>\n",
       "      <td>16.0</td>\n",
       "      <td>8.0</td>\n",
       "      <td>12.0</td>\n",
       "      <td>...</td>\n",
       "      <td>12.0</td>\n",
       "      <td>12.0</td>\n",
       "      <td>12.0</td>\n",
       "      <td>3.0</td>\n",
       "      <td>53.0</td>\n",
       "      <td>12.0</td>\n",
       "      <td>12.0</td>\n",
       "      <td>1.0</td>\n",
       "      <td>127.0</td>\n",
       "      <td>18.0</td>\n",
       "    </tr>\n",
       "    <tr>\n",
       "      <th>2016-01-04</th>\n",
       "      <td>7.0</td>\n",
       "      <td>7.0</td>\n",
       "      <td>31.0</td>\n",
       "      <td>5.0</td>\n",
       "      <td>17.0</td>\n",
       "      <td>12.0</td>\n",
       "      <td>6.0</td>\n",
       "      <td>6.0</td>\n",
       "      <td>2.0</td>\n",
       "      <td>3.0</td>\n",
       "      <td>...</td>\n",
       "      <td>3.0</td>\n",
       "      <td>5.0</td>\n",
       "      <td>3.0</td>\n",
       "      <td>0.0</td>\n",
       "      <td>25.0</td>\n",
       "      <td>3.0</td>\n",
       "      <td>8.0</td>\n",
       "      <td>0.0</td>\n",
       "      <td>79.0</td>\n",
       "      <td>5.0</td>\n",
       "    </tr>\n",
       "    <tr>\n",
       "      <th>2016-01-05</th>\n",
       "      <td>13.0</td>\n",
       "      <td>5.0</td>\n",
       "      <td>34.0</td>\n",
       "      <td>0.0</td>\n",
       "      <td>25.0</td>\n",
       "      <td>11.0</td>\n",
       "      <td>5.0</td>\n",
       "      <td>5.0</td>\n",
       "      <td>4.0</td>\n",
       "      <td>12.0</td>\n",
       "      <td>...</td>\n",
       "      <td>12.0</td>\n",
       "      <td>14.0</td>\n",
       "      <td>12.0</td>\n",
       "      <td>3.0</td>\n",
       "      <td>51.0</td>\n",
       "      <td>6.0</td>\n",
       "      <td>9.0</td>\n",
       "      <td>2.0</td>\n",
       "      <td>83.0</td>\n",
       "      <td>7.0</td>\n",
       "    </tr>\n",
       "  </tbody>\n",
       "</table>\n",
       "<p>5 rows × 64 columns</p>\n",
       "</div>"
      ],
      "text/plain": [
       "            Alfredo Sauce  Anchovies  Artichoke  Arugula  Asiago Cheese  \\\n",
       "date                                                                      \n",
       "2016-01-01            3.0        4.0       24.0      2.0           12.0   \n",
       "2016-01-02            0.0       11.0       55.0      6.0            8.0   \n",
       "2016-01-03            3.0        3.0       48.0     11.0           12.0   \n",
       "2016-01-04            7.0        7.0       31.0      5.0           17.0   \n",
       "2016-01-05           13.0        5.0       34.0      0.0           25.0   \n",
       "\n",
       "            Bacon  Barbecue Sauce  Barbecued Chicken  Beef Chuck Roast  \\\n",
       "date                                                                     \n",
       "2016-01-01   22.0            18.0               18.0               6.0   \n",
       "2016-01-02   16.0            13.0               13.0              10.0   \n",
       "2016-01-03   12.0            16.0               16.0               8.0   \n",
       "2016-01-04   12.0             6.0                6.0               2.0   \n",
       "2016-01-05   11.0             5.0                5.0               4.0   \n",
       "\n",
       "            Blue Cheese  ...  Romano Cheese  Sliced Ham  Smoked Gouda Cheese  \\\n",
       "date                     ...                                                   \n",
       "2016-01-01         15.0  ...           15.0         6.0                 15.0   \n",
       "2016-01-02         12.0  ...           12.0        11.0                 12.0   \n",
       "2016-01-03         12.0  ...           12.0        12.0                 12.0   \n",
       "2016-01-04          3.0  ...            3.0         5.0                  3.0   \n",
       "2016-01-05         12.0  ...           12.0        14.0                 12.0   \n",
       "\n",
       "            Soppressata Salami  Spinach  Sun-dried Tomatoes  \\\n",
       "date                                                          \n",
       "2016-01-01                 3.0     33.0                10.0   \n",
       "2016-01-02                11.0     39.0                 6.0   \n",
       "2016-01-03                 3.0     53.0                12.0   \n",
       "2016-01-04                 0.0     25.0                 3.0   \n",
       "2016-01-05                 3.0     51.0                 6.0   \n",
       "\n",
       "            Thai Sweet Chilli Sauce  Thyme  Tomatoes  Zucchini  \n",
       "date                                                            \n",
       "2016-01-01                     13.0    0.0     139.0       7.0  \n",
       "2016-01-02                     19.0    0.0     165.0      15.0  \n",
       "2016-01-03                     12.0    1.0     127.0      18.0  \n",
       "2016-01-04                      8.0    0.0      79.0       5.0  \n",
       "2016-01-05                      9.0    2.0      83.0       7.0  \n",
       "\n",
       "[5 rows x 64 columns]"
      ]
     },
     "execution_count": 3,
     "metadata": {},
     "output_type": "execute_result"
    }
   ],
   "source": [
    "ingredients_per_day = pd.read_csv('data/ingredients_per_day_2016.csv', index_col=0)\n",
    "ingredients_per_day.index = pd.to_datetime(ingredients_per_day.index)\n",
    "ingredients_per_day = ingredients_per_day.sort_index()\n",
    "dates = pd.date_range(ingredients_per_day.index[0], ingredients_per_day.index[-1])\n",
    "ingredients = ingredients_per_day.reindex(dates, method='ffill')\n",
    "ingredients_per_day.head()"
   ]
  },
  {
   "cell_type": "markdown",
   "metadata": {},
   "source": [
    "## Informe Calidad de Datos"
   ]
  },
  {
   "cell_type": "code",
   "execution_count": 4,
   "metadata": {},
   "outputs": [],
   "source": [
    "informe = {\"orders\":{}, \"order_details\":{}, \"pizza_types\":{}}"
   ]
  },
  {
   "cell_type": "markdown",
   "metadata": {},
   "source": [
    "#### orders.csv"
   ]
  },
  {
   "cell_type": "code",
   "execution_count": 5,
   "metadata": {},
   "outputs": [
    {
     "data": {
      "text/html": [
       "<div>\n",
       "<style scoped>\n",
       "    .dataframe tbody tr th:only-of-type {\n",
       "        vertical-align: middle;\n",
       "    }\n",
       "\n",
       "    .dataframe tbody tr th {\n",
       "        vertical-align: top;\n",
       "    }\n",
       "\n",
       "    .dataframe thead th {\n",
       "        text-align: right;\n",
       "    }\n",
       "</style>\n",
       "<table border=\"1\" class=\"dataframe\">\n",
       "  <thead>\n",
       "    <tr style=\"text-align: right;\">\n",
       "      <th></th>\n",
       "      <th>order_id</th>\n",
       "      <th>date</th>\n",
       "      <th>time</th>\n",
       "    </tr>\n",
       "  </thead>\n",
       "  <tbody>\n",
       "    <tr>\n",
       "      <th>0</th>\n",
       "      <td>8886</td>\n",
       "      <td>May 29 2016</td>\n",
       "      <td>18:58 PM</td>\n",
       "    </tr>\n",
       "    <tr>\n",
       "      <th>1</th>\n",
       "      <td>11424</td>\n",
       "      <td>2016-07-10</td>\n",
       "      <td>14:36:32</td>\n",
       "    </tr>\n",
       "    <tr>\n",
       "      <th>2</th>\n",
       "      <td>19361</td>\n",
       "      <td>Saturday,26 November, 2016</td>\n",
       "      <td>18:42 PM</td>\n",
       "    </tr>\n",
       "    <tr>\n",
       "      <th>3</th>\n",
       "      <td>4489</td>\n",
       "      <td>2016-03-17</td>\n",
       "      <td>NaN</td>\n",
       "    </tr>\n",
       "    <tr>\n",
       "      <th>4</th>\n",
       "      <td>6838</td>\n",
       "      <td>NaN</td>\n",
       "      <td>15:09:12</td>\n",
       "    </tr>\n",
       "  </tbody>\n",
       "</table>\n",
       "</div>"
      ],
      "text/plain": [
       "   order_id                        date      time\n",
       "0      8886                 May 29 2016  18:58 PM\n",
       "1     11424                  2016-07-10  14:36:32\n",
       "2     19361  Saturday,26 November, 2016  18:42 PM\n",
       "3      4489                  2016-03-17       NaN\n",
       "4      6838                         NaN  15:09:12"
      ]
     },
     "execution_count": 5,
     "metadata": {},
     "output_type": "execute_result"
    }
   ],
   "source": [
    "informe[\"orders\"][\"desciption\"] = \"csv with every order made in 2016\"\n",
    "informe[\"orders\"][\"n_rows\"] = orders.shape[0]\n",
    "informe[\"orders\"][\"n_columns\"] = orders.shape[1]\n",
    "informe[\"orders\"][\"columns\"] = {}\n",
    "orders.head()"
   ]
  },
  {
   "cell_type": "markdown",
   "metadata": {},
   "source": [
    "order_id"
   ]
  },
  {
   "cell_type": "code",
   "execution_count": 6,
   "metadata": {},
   "outputs": [],
   "source": [
    "informe[\"orders\"][\"columns\"][\"order_id\"] = {}\n",
    "informe[\"orders\"][\"columns\"][\"order_id\"][\"description\"] = \"unique id for each order\"\n",
    "informe[\"orders\"][\"columns\"][\"order_id\"][\"n_nulls\"] = orders[\"order_id\"].isnull().sum()\n",
    "informe[\"orders\"][\"columns\"][\"order_id\"][\"n_unique\"] = orders[\"order_id\"].nunique()"
   ]
  },
  {
   "cell_type": "markdown",
   "metadata": {},
   "source": [
    "date"
   ]
  },
  {
   "cell_type": "code",
   "execution_count": 7,
   "metadata": {},
   "outputs": [],
   "source": [
    "informe[\"orders\"][\"columns\"][\"date\"] = {}\n",
    "informe[\"orders\"][\"columns\"][\"date\"][\"description\"] = \"date of the order\"\n",
    "informe[\"orders\"][\"columns\"][\"date\"][\"n_nulls\"] = orders[\"date\"].isnull().sum()\n",
    "informe[\"orders\"][\"columns\"][\"date\"][\"n_unique\"] = orders[\"date\"].nunique()"
   ]
  },
  {
   "cell_type": "markdown",
   "metadata": {},
   "source": [
    "time"
   ]
  },
  {
   "cell_type": "code",
   "execution_count": 8,
   "metadata": {},
   "outputs": [],
   "source": [
    "informe[\"orders\"][\"columns\"][\"time\"] = {}\n",
    "informe[\"orders\"][\"columns\"][\"time\"][\"description\"] = \"exact time of the order\"\n",
    "informe[\"orders\"][\"columns\"][\"time\"][\"n_nulls\"] = orders[\"time\"].isnull().sum()\n",
    "informe[\"orders\"][\"columns\"][\"time\"][\"n_unique\"] = orders[\"time\"].nunique()"
   ]
  },
  {
   "cell_type": "markdown",
   "metadata": {},
   "source": [
    "#### order_details.csv"
   ]
  },
  {
   "cell_type": "code",
   "execution_count": 9,
   "metadata": {},
   "outputs": [
    {
     "data": {
      "text/html": [
       "<div>\n",
       "<style scoped>\n",
       "    .dataframe tbody tr th:only-of-type {\n",
       "        vertical-align: middle;\n",
       "    }\n",
       "\n",
       "    .dataframe tbody tr th {\n",
       "        vertical-align: top;\n",
       "    }\n",
       "\n",
       "    .dataframe thead th {\n",
       "        text-align: right;\n",
       "    }\n",
       "</style>\n",
       "<table border=\"1\" class=\"dataframe\">\n",
       "  <thead>\n",
       "    <tr style=\"text-align: right;\">\n",
       "      <th></th>\n",
       "      <th>order_details_id</th>\n",
       "      <th>order_id</th>\n",
       "      <th>pizza_id</th>\n",
       "      <th>quantity</th>\n",
       "    </tr>\n",
       "  </thead>\n",
       "  <tbody>\n",
       "    <tr>\n",
       "      <th>0</th>\n",
       "      <td>21671</td>\n",
       "      <td>9513</td>\n",
       "      <td>cali-ckn-m</td>\n",
       "      <td>NaN</td>\n",
       "    </tr>\n",
       "    <tr>\n",
       "      <th>1</th>\n",
       "      <td>17259</td>\n",
       "      <td>7591</td>\n",
       "      <td>green garden s</td>\n",
       "      <td>1</td>\n",
       "    </tr>\n",
       "    <tr>\n",
       "      <th>2</th>\n",
       "      <td>19844</td>\n",
       "      <td>8724</td>\n",
       "      <td>the-greek-xl</td>\n",
       "      <td>1</td>\n",
       "    </tr>\n",
       "    <tr>\n",
       "      <th>3</th>\n",
       "      <td>24185</td>\n",
       "      <td>10625</td>\n",
       "      <td>NaN</td>\n",
       "      <td>1</td>\n",
       "    </tr>\n",
       "    <tr>\n",
       "      <th>4</th>\n",
       "      <td>13779</td>\n",
       "      <td>6037</td>\n",
       "      <td>thai_ckn_m</td>\n",
       "      <td>1</td>\n",
       "    </tr>\n",
       "  </tbody>\n",
       "</table>\n",
       "</div>"
      ],
      "text/plain": [
       "   order_details_id  order_id        pizza_id quantity\n",
       "0             21671      9513      cali-ckn-m      NaN\n",
       "1             17259      7591  green garden s        1\n",
       "2             19844      8724    the-greek-xl        1\n",
       "3             24185     10625             NaN        1\n",
       "4             13779      6037      thai_ckn_m        1"
      ]
     },
     "execution_count": 9,
     "metadata": {},
     "output_type": "execute_result"
    }
   ],
   "source": [
    "informe[\"order_details\"][\"desciption\"] = \"csv with information about each order made in 2016\"\n",
    "informe[\"order_details\"][\"n_rows\"] = order_details.shape[0]\n",
    "informe[\"order_details\"][\"n_columns\"] = order_details.shape[1]\n",
    "informe[\"order_details\"][\"columns\"] = {}\n",
    "order_details.head()"
   ]
  },
  {
   "cell_type": "markdown",
   "metadata": {},
   "source": [
    "order_details_id"
   ]
  },
  {
   "cell_type": "code",
   "execution_count": 10,
   "metadata": {},
   "outputs": [],
   "source": [
    "informe[\"order_details\"][\"columns\"][\"order_details_id\"] = {}\n",
    "informe[\"order_details\"][\"columns\"][\"order_details_id\"][\"description\"] = \"unique id for each pizza in each order\"\n",
    "informe[\"order_details\"][\"columns\"][\"order_details_id\"][\"n_nulls\"] = order_details[\"order_details_id\"].isnull().sum()\n",
    "informe[\"order_details\"][\"columns\"][\"order_details_id\"][\"n_unique\"] = order_details[\"order_details_id\"].nunique()"
   ]
  },
  {
   "cell_type": "markdown",
   "metadata": {},
   "source": [
    "order_id"
   ]
  },
  {
   "cell_type": "code",
   "execution_count": 11,
   "metadata": {},
   "outputs": [],
   "source": [
    "informe[\"order_details\"][\"columns\"][\"order_id\"] = {}\n",
    "informe[\"order_details\"][\"columns\"][\"order_id\"][\"description\"] = \"unique id for each order\"\n",
    "informe[\"order_details\"][\"columns\"][\"order_id\"][\"n_nulls\"] = order_details[\"order_id\"].isnull().sum()\n",
    "informe[\"order_details\"][\"columns\"][\"order_id\"][\"n_unique\"] = order_details[\"order_id\"].nunique()"
   ]
  },
  {
   "cell_type": "markdown",
   "metadata": {},
   "source": [
    "pizza_id"
   ]
  },
  {
   "cell_type": "code",
   "execution_count": 12,
   "metadata": {},
   "outputs": [],
   "source": [
    "informe[\"order_details\"][\"columns\"][\"pizza_id\"] = {}\n",
    "informe[\"order_details\"][\"columns\"][\"pizza_id\"][\"description\"] = \"unique id for each pizza and size\"\n",
    "informe[\"order_details\"][\"columns\"][\"pizza_id\"][\"n_nulls\"] = order_details[\"pizza_id\"].isnull().sum()\n",
    "informe[\"order_details\"][\"columns\"][\"pizza_id\"][\"n_unique\"] = order_details[\"pizza_id\"].nunique()"
   ]
  },
  {
   "cell_type": "markdown",
   "metadata": {},
   "source": [
    "quantity"
   ]
  },
  {
   "cell_type": "code",
   "execution_count": 13,
   "metadata": {},
   "outputs": [],
   "source": [
    "informe[\"order_details\"][\"columns\"][\"quantity\"] = {}\n",
    "informe[\"order_details\"][\"columns\"][\"quantity\"][\"description\"] = \"number of pizzas ordered\"\n",
    "informe[\"order_details\"][\"columns\"][\"quantity\"][\"n_nulls\"] = order_details[\"quantity\"].isnull().sum()\n",
    "informe[\"order_details\"][\"columns\"][\"quantity\"][\"n_unique\"] = order_details[\"quantity\"].nunique()"
   ]
  },
  {
   "cell_type": "markdown",
   "metadata": {},
   "source": [
    "#### pizza_types.csv"
   ]
  },
  {
   "cell_type": "code",
   "execution_count": 14,
   "metadata": {},
   "outputs": [
    {
     "data": {
      "text/html": [
       "<div>\n",
       "<style scoped>\n",
       "    .dataframe tbody tr th:only-of-type {\n",
       "        vertical-align: middle;\n",
       "    }\n",
       "\n",
       "    .dataframe tbody tr th {\n",
       "        vertical-align: top;\n",
       "    }\n",
       "\n",
       "    .dataframe thead th {\n",
       "        text-align: right;\n",
       "    }\n",
       "</style>\n",
       "<table border=\"1\" class=\"dataframe\">\n",
       "  <thead>\n",
       "    <tr style=\"text-align: right;\">\n",
       "      <th></th>\n",
       "      <th>pizza_type_id</th>\n",
       "      <th>name</th>\n",
       "      <th>category</th>\n",
       "      <th>ingredients</th>\n",
       "    </tr>\n",
       "  </thead>\n",
       "  <tbody>\n",
       "    <tr>\n",
       "      <th>0</th>\n",
       "      <td>bbq_ckn</td>\n",
       "      <td>The Barbecue Chicken Pizza</td>\n",
       "      <td>Chicken</td>\n",
       "      <td>Barbecued Chicken, Red Peppers, Green Peppers,...</td>\n",
       "    </tr>\n",
       "    <tr>\n",
       "      <th>1</th>\n",
       "      <td>cali_ckn</td>\n",
       "      <td>The California Chicken Pizza</td>\n",
       "      <td>Chicken</td>\n",
       "      <td>Chicken, Artichoke, Spinach, Garlic, Jalapeno ...</td>\n",
       "    </tr>\n",
       "    <tr>\n",
       "      <th>2</th>\n",
       "      <td>ckn_alfredo</td>\n",
       "      <td>The Chicken Alfredo Pizza</td>\n",
       "      <td>Chicken</td>\n",
       "      <td>Chicken, Red Onions, Red Peppers, Mushrooms, A...</td>\n",
       "    </tr>\n",
       "    <tr>\n",
       "      <th>3</th>\n",
       "      <td>ckn_pesto</td>\n",
       "      <td>The Chicken Pesto Pizza</td>\n",
       "      <td>Chicken</td>\n",
       "      <td>Chicken, Tomatoes, Red Peppers, Spinach, Garli...</td>\n",
       "    </tr>\n",
       "    <tr>\n",
       "      <th>4</th>\n",
       "      <td>southw_ckn</td>\n",
       "      <td>The Southwest Chicken Pizza</td>\n",
       "      <td>Chicken</td>\n",
       "      <td>Chicken, Tomatoes, Red Peppers, Red Onions, Ja...</td>\n",
       "    </tr>\n",
       "  </tbody>\n",
       "</table>\n",
       "</div>"
      ],
      "text/plain": [
       "  pizza_type_id                          name category  \\\n",
       "0       bbq_ckn    The Barbecue Chicken Pizza  Chicken   \n",
       "1      cali_ckn  The California Chicken Pizza  Chicken   \n",
       "2   ckn_alfredo     The Chicken Alfredo Pizza  Chicken   \n",
       "3     ckn_pesto       The Chicken Pesto Pizza  Chicken   \n",
       "4    southw_ckn   The Southwest Chicken Pizza  Chicken   \n",
       "\n",
       "                                         ingredients  \n",
       "0  Barbecued Chicken, Red Peppers, Green Peppers,...  \n",
       "1  Chicken, Artichoke, Spinach, Garlic, Jalapeno ...  \n",
       "2  Chicken, Red Onions, Red Peppers, Mushrooms, A...  \n",
       "3  Chicken, Tomatoes, Red Peppers, Spinach, Garli...  \n",
       "4  Chicken, Tomatoes, Red Peppers, Red Onions, Ja...  "
      ]
     },
     "execution_count": 14,
     "metadata": {},
     "output_type": "execute_result"
    }
   ],
   "source": [
    "informe[\"pizza_types\"][\"desciption\"] = \"csv with information about each pizza and its ingredients\"\n",
    "informe[\"pizza_types\"][\"n_rows\"] = pizza_ingredients.shape[0]\n",
    "informe[\"pizza_types\"][\"n_columns\"] = pizza_ingredients.shape[1]\n",
    "informe[\"pizza_types\"][\"columns\"] = {}\n",
    "pizza_ingredients.head()"
   ]
  },
  {
   "cell_type": "markdown",
   "metadata": {},
   "source": [
    "pizza_type_id"
   ]
  },
  {
   "cell_type": "code",
   "execution_count": 15,
   "metadata": {},
   "outputs": [],
   "source": [
    "informe[\"pizza_types\"][\"columns\"][\"pizza_type_id\"] = {}\n",
    "informe[\"pizza_types\"][\"columns\"][\"pizza_type_id\"][\"description\"] = \"unique id for each pizza without size\"\n",
    "informe[\"pizza_types\"][\"columns\"][\"pizza_type_id\"][\"n_nulls\"] = pizza_ingredients[\"pizza_type_id\"].isnull().sum()\n",
    "informe[\"pizza_types\"][\"columns\"][\"pizza_type_id\"][\"n_unique\"] = pizza_ingredients[\"pizza_type_id\"].nunique()"
   ]
  },
  {
   "cell_type": "markdown",
   "metadata": {},
   "source": [
    "name"
   ]
  },
  {
   "cell_type": "code",
   "execution_count": 16,
   "metadata": {},
   "outputs": [],
   "source": [
    "informe[\"pizza_types\"][\"columns\"][\"name\"] = {}\n",
    "informe[\"pizza_types\"][\"columns\"][\"name\"][\"description\"] = \"full name of the pizza\"\n",
    "informe[\"pizza_types\"][\"columns\"][\"name\"][\"n_nulls\"] = pizza_ingredients[\"name\"].isnull().sum()\n",
    "informe[\"pizza_types\"][\"columns\"][\"name\"][\"n_unique\"] = pizza_ingredients[\"name\"].nunique()"
   ]
  },
  {
   "cell_type": "markdown",
   "metadata": {},
   "source": [
    "category"
   ]
  },
  {
   "cell_type": "code",
   "execution_count": 17,
   "metadata": {},
   "outputs": [],
   "source": [
    "informe[\"pizza_types\"][\"columns\"][\"category\"] = {}\n",
    "informe[\"pizza_types\"][\"columns\"][\"category\"][\"description\"] = \"category of the pizza\"\n",
    "informe[\"pizza_types\"][\"columns\"][\"category\"][\"n_nulls\"] = pizza_ingredients[\"category\"].isnull().sum()\n",
    "informe[\"pizza_types\"][\"columns\"][\"category\"][\"n_unique\"] = pizza_ingredients[\"category\"].nunique()"
   ]
  },
  {
   "cell_type": "markdown",
   "metadata": {},
   "source": [
    "ingredients"
   ]
  },
  {
   "cell_type": "code",
   "execution_count": 18,
   "metadata": {},
   "outputs": [],
   "source": [
    "informe[\"pizza_types\"][\"columns\"][\"ingredients\"] = {}\n",
    "informe[\"pizza_types\"][\"columns\"][\"ingredients\"][\"description\"] = \"ingredients of the pizza\"\n",
    "informe[\"pizza_types\"][\"columns\"][\"ingredients\"][\"n_nulls\"] = pizza_ingredients[\"ingredients\"].isnull().sum()\n",
    "informe[\"pizza_types\"][\"columns\"][\"ingredients\"][\"n_unique\"] = pizza_ingredients[\"ingredients\"].nunique()"
   ]
  },
  {
   "cell_type": "markdown",
   "metadata": {},
   "source": [
    "## Predict"
   ]
  },
  {
   "cell_type": "markdown",
   "metadata": {},
   "source": [
    "### Load Model"
   ]
  },
  {
   "cell_type": "code",
   "execution_count": 19,
   "metadata": {},
   "outputs": [
    {
     "data": {
      "text/plain": [
       "Alfredo Sauce               2.694113\n",
       "Anchovies                   4.073997\n",
       "Artichoke                  12.581386\n",
       "Arugula                     3.004441\n",
       "Asiago Cheese               6.585123\n",
       "                             ...    \n",
       "Sun-dried Tomatoes          4.910173\n",
       "Thai Sweet Chilli Sauce     5.903495\n",
       "Thyme                       1.188943\n",
       "Tomatoes                   22.693153\n",
       "Zucchini                    5.018326\n",
       "Length: 64, dtype: float64"
      ]
     },
     "execution_count": 19,
     "metadata": {},
     "output_type": "execute_result"
    }
   ],
   "source": [
    "model = xgb.XGBRegressor()\n",
    "model.load_model('model/ingredients.model')\n",
    "model_info = json.load(open('model/info.json', 'r', encoding='utf-8'))\n",
    "model_info[\"maes\"] = pd.Series(model_info[\"maes\"])\n",
    "model_info[\"maes\"]"
   ]
  },
  {
   "cell_type": "code",
   "execution_count": 20,
   "metadata": {},
   "outputs": [],
   "source": [
    "def mean_ingredients_predict(day,dataframe,previous_days=3,previous_weeks=2,verbose=False):\n",
    "    '''\n",
    "    Returns the mean of the ingredients of the previous days and the same day of the previous weeks\n",
    "    '''\n",
    "    if verbose:\n",
    "        print('Calculating mean ingredients to train Day: ',day.date())\n",
    "    start_day = day-pd.Timedelta(days=previous_days)\n",
    "    last_day = day-pd.Timedelta(days=1)\n",
    "    pdays = pd.date_range(start_day,last_day)\n",
    "    '''Append previous weeks'''\n",
    "    for w in range(previous_weeks,0,-1):\n",
    "        date = day-pd.Timedelta(weeks=w)\n",
    "        pdays = pdays.insert(previous_weeks-w,date)\n",
    "    '''Fill missing data'''\n",
    "    for day in pdays:\n",
    "        if day not in dataframe.index:\n",
    "            if verbose:\n",
    "                print('Missing previous day:',day.date())\n",
    "            delta=day-dataframe.index[0]\n",
    "            if verbose:\n",
    "                print(\"Attempting to predict it\")\n",
    "            if delta.days < previous_weeks*7:\n",
    "                if verbose:\n",
    "                    print('Not enough data to predict!')\n",
    "                    print('Returning mean of previous and next days')\n",
    "                m=1\n",
    "                try:\n",
    "                    return (dataframe.loc[day-pd.Timedelta(days=m)]+dataframe.loc[day+pd.Timedelta(days=m)])/(2*m)\n",
    "                except:\n",
    "                    if verbose:\n",
    "                        print('To enought data to calculate mean')\n",
    "                        print(\"Returning mean of all data\")\n",
    "                    return dataframe.mean()\n",
    "            dataframe.loc[day] = predict(day,dataframe,verbose=verbose)\n",
    "    return dataframe.loc[pdays].mean()\n",
    "\n",
    "def predict(day,dataframe,verbose=False):\n",
    "    '''\n",
    "    Predict the ingredients for the given day\n",
    "    Inputs:\n",
    "        day: datetime object\n",
    "        verbose: bool\n",
    "        dataframe: dataframe with the ingredients\n",
    "    Outputs:\n",
    "        ingredients: dataframe with the ingredients\n",
    "    '''\n",
    "    p_days = model_info[\"previous_days\"]\n",
    "    p_weeks = model_info[\"previous_weeks\"]\n",
    "    mean = mean_ingredients_predict(day,verbose=verbose,dataframe=dataframe,previous_days=p_days,previous_weeks=p_weeks)\n",
    "    dayofweek = day.dayofweek\n",
    "    month = day.month\n",
    "    X = pd.DataFrame([mean],columns=mean.index)\n",
    "    X['dayofweek'] = dayofweek\n",
    "    X['month'] = month\n",
    "    pred = model.predict(X).tolist()[0]\n",
    "    return pd.Series(pred,index=mean.index)\n",
    "\n",
    "def predict_stock(monday,dataframe,margins=None,verbose=False):\n",
    "    '''\n",
    "    Predict the stock for the given week, summing up the ingredients for each day\n",
    "    Returns: DataFrame with the predicted stock for each ingredient\n",
    "    '''\n",
    "    dataframe = dataframe.copy()\n",
    "    if margins is None:\n",
    "        margins = 0\n",
    "    # print(margins)\n",
    "    # print(dataframe.columns)\n",
    "    # print(set(margins.index).union(set(dataframe.columns)))\n",
    "    # '''elements in df but not in margins'''\n",
    "    # print(set(dataframe.columns).difference(set(margins.index)))\n",
    "    # assert len(margins) > dataframe.shape[1]\n",
    "    stock = predict(monday,verbose=verbose,dataframe=dataframe)+margins\n",
    "    for day in pd.date_range(monday+pd.Timedelta(days=1),monday+pd.Timedelta(days=6)):\n",
    "        stock += predict(day,verbose=verbose,dataframe=dataframe)+margins\n",
    "    return stock\n",
    "\n",
    "def real_stock(monday,dataframe=None):\n",
    "    '''\n",
    "    Returns the real stock for the given week\n",
    "    '''\n",
    "    stock = dataframe.loc[monday].copy()\n",
    "    for day in pd.date_range(monday+pd.Timedelta(days=1),monday+pd.Timedelta(days=6)):\n",
    "        stock += dataframe.loc[day]\n",
    "    return stock"
   ]
  },
  {
   "cell_type": "code",
   "execution_count": 21,
   "metadata": {},
   "outputs": [
    {
     "data": {
      "text/plain": [
       "Alfredo Sauce                35.165069\n",
       "Anchovies                    79.670192\n",
       "Artichoke                   341.241207\n",
       "Arugula                      41.537617\n",
       "Asiago Cheese                99.954821\n",
       "                              ...     \n",
       "Sun-dried Tomatoes          104.618194\n",
       "Thai Sweet Chilli Sauce     117.350232\n",
       "Thyme                        15.782810\n",
       "Tomatoes                   1023.501345\n",
       "Zucchini                     87.880896\n",
       "Length: 64, dtype: float64"
      ]
     },
     "execution_count": 21,
     "metadata": {},
     "output_type": "execute_result"
    }
   ],
   "source": [
    "available_data = ingredients_per_day.loc[:'2016-03-05']\n",
    "monday = pd.to_datetime('2016-03-07')\n",
    "stock = predict_stock(monday,available_data,margins=model_info[\"maes\"],verbose=False)\n",
    "stock"
   ]
  },
  {
   "cell_type": "code",
   "execution_count": 22,
   "metadata": {},
   "outputs": [],
   "source": [
    "prediction = {\"info\":{}}\n",
    "prediction[\"info\"][\"prediction_week\"] = monday.date().isoformat()\n",
    "prediction[\"info\"][\"last_data_available\"] = available_data.index[-1].date().isoformat()\n",
    "prediction[\"predicted_ingredients\"] = {}\n",
    "for ingredient in stock.index:\n",
    "    prediction[\"predicted_ingredients\"][ingredient] = int(stock[ingredient])"
   ]
  },
  {
   "cell_type": "code",
   "execution_count": 23,
   "metadata": {},
   "outputs": [],
   "source": [
    "report={\n",
    "    \"data_quality_report\":informe,\n",
    "    \"prediction\":prediction\n",
    "}"
   ]
  },
  {
   "cell_type": "markdown",
   "metadata": {},
   "source": [
    "### Save report in xml"
   ]
  },
  {
   "cell_type": "code",
   "execution_count": 24,
   "metadata": {},
   "outputs": [],
   "source": [
    "xml = dict2xml.dict2xml(report,wrap=\"prediction\",indent=\"    \")\n",
    "if not os.path.exists(\"output\"):\n",
    "    os.mkdir(\"output\")\n",
    "with open('output/report_2016.xml', 'w', encoding='utf-8') as f:\n",
    "    f.write(xml)"
   ]
  }
 ],
 "metadata": {
  "kernelspec": {
   "display_name": "Python 3.10.6 64-bit",
   "language": "python",
   "name": "python3"
  },
  "language_info": {
   "codemirror_mode": {
    "name": "ipython",
    "version": 3
   },
   "file_extension": ".py",
   "mimetype": "text/x-python",
   "name": "python",
   "nbconvert_exporter": "python",
   "pygments_lexer": "ipython3",
   "version": "3.10.6"
  },
  "orig_nbformat": 4,
  "vscode": {
   "interpreter": {
    "hash": "841fed4330da2c0f186905de144ecf4da6db16f0ca1e7f45a0769cc74be68adf"
   }
  }
 },
 "nbformat": 4,
 "nbformat_minor": 2
}
